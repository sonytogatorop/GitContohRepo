{
 "cells": [
  {
   "cell_type": "code",
   "execution_count": 1,
   "metadata": {},
   "outputs": [],
   "source": [
    "import psycopg2"
   ]
  },
  {
   "cell_type": "code",
   "execution_count": 2,
   "metadata": {},
   "outputs": [],
   "source": [
    "host=\"157.230.240.246\"\n",
    "database=\"learn_psycopg2\"\n",
    "user=\"iykra_trainee\"\n",
    "password=\"passwordiykra\""
   ]
  },
  {
   "cell_type": "code",
   "execution_count": 3,
   "metadata": {},
   "outputs": [],
   "source": [
    "def create_tables(conn,cur):\n",
    "    \"\"\" create tables in the PostgreSQL database\"\"\"\n",
    "    commands = (\n",
    "        \"\"\"\n",
    "        CREATE TABLE vendors (\n",
    "            vendor_id SERIAL PRIMARY KEY,\n",
    "            vendor_name VARCHAR(255) NOT NULL\n",
    "        )\n",
    "        \"\"\",\n",
    "        \"\"\" CREATE TABLE parts (\n",
    "                part_id SERIAL PRIMARY KEY,\n",
    "                part_name VARCHAR(255) NOT NULL\n",
    "                )\n",
    "        \"\"\",\n",
    "        \"\"\"\n",
    "        CREATE TABLE part_drawings (\n",
    "                part_id INTEGER PRIMARY KEY,\n",
    "                file_extension VARCHAR(5) NOT NULL,\n",
    "                drawing_data BYTEA NOT NULL,\n",
    "                FOREIGN KEY (part_id)\n",
    "                REFERENCES parts (part_id)\n",
    "                ON UPDATE CASCADE ON DELETE CASCADE\n",
    "        )\n",
    "        \"\"\",\n",
    "        \"\"\"\n",
    "        CREATE TABLE vendor_parts (\n",
    "                vendor_id INTEGER NOT NULL,\n",
    "                part_id INTEGER NOT NULL,\n",
    "                PRIMARY KEY (vendor_id , part_id),\n",
    "                FOREIGN KEY (vendor_id)\n",
    "                    REFERENCES vendors (vendor_id)\n",
    "                    ON UPDATE CASCADE ON DELETE CASCADE,\n",
    "                FOREIGN KEY (part_id)\n",
    "                    REFERENCES parts (part_id)\n",
    "                    ON UPDATE CASCADE ON DELETE CASCADE\n",
    "        )\n",
    "        \"\"\")\n",
    "    for command in commands:\n",
    "        cur.execute(command)\n",
    "    cur.close()\n",
    "    conn.commit()"
   ]
  },
  {
   "cell_type": "code",
   "execution_count": 4,
   "metadata": {},
   "outputs": [],
   "source": [
    "def insert_vendor(vendor_name,conn,cur):\n",
    "    \"\"\" insert a new vendor into the vendors table \"\"\"\n",
    "    sql = \"\"\"INSERT INTO vendors(vendor_name)\n",
    "             VALUES(%s) RETURNING vendor_id;\"\"\"\n",
    "    vendor_id = None\n",
    "    try:\n",
    "        # execute the INSERT statement\n",
    "        cur.execute(sql, (vendor_name,))\n",
    "        # get the generated id back\n",
    "        vendor_id = cur.fetchone()[0]\n",
    "        # commit the changes to the database\n",
    "        conn.commit()\n",
    "    except (Exception, psycopg2.DatabaseError) as error:\n",
    "        print(error)\n",
    " \n",
    "    return vendor_id"
   ]
  },
  {
   "cell_type": "code",
   "execution_count": 5,
   "metadata": {},
   "outputs": [],
   "source": [
    "def insert_vendor_list(vendor_list,conn,cur):\n",
    "    \"\"\" insert multiple vendors into the vendors table  \"\"\"\n",
    "    sql = \"INSERT INTO vendors(vendor_name) VALUES(%s)\"\n",
    "    try:\n",
    "        # execute the INSERT statement\n",
    "        cur.executemany(sql,vendor_list)\n",
    "        # commit the changes to the database\n",
    "        conn.commit()\n",
    "        # close communication with the database\n",
    "    except (Exception, psycopg2.DatabaseError) as error:\n",
    "        print(error)"
   ]
  },
  {
   "cell_type": "code",
   "execution_count": 6,
   "metadata": {},
   "outputs": [
    {
     "ename": "NameError",
     "evalue": "name 'conn' is not defined",
     "output_type": "error",
     "traceback": [
      "\u001b[1;31m---------------------------------------------------------------------------\u001b[0m",
      "\u001b[1;31mNameError\u001b[0m                                 Traceback (most recent call last)",
      "\u001b[1;32m<ipython-input-6-b0500885e76f>\u001b[0m in \u001b[0;36m<module>\u001b[1;34m\u001b[0m\n\u001b[0;32m      9\u001b[0m     \u001b[1;33m(\u001b[0m\u001b[1;34m'Foster Electric Co. Ltd.'\u001b[0m\u001b[1;33m,\u001b[0m\u001b[1;33m)\u001b[0m\u001b[1;33m,\u001b[0m\u001b[1;33m\u001b[0m\u001b[1;33m\u001b[0m\u001b[0m\n\u001b[0;32m     10\u001b[0m     \u001b[1;33m(\u001b[0m\u001b[1;34m'Murata Manufacturing Co. Ltd.'\u001b[0m\u001b[1;33m,\u001b[0m\u001b[1;33m)\u001b[0m\u001b[1;33m\u001b[0m\u001b[1;33m\u001b[0m\u001b[0m\n\u001b[1;32m---> 11\u001b[1;33m ],conn,cur)\n\u001b[0m",
      "\u001b[1;31mNameError\u001b[0m: name 'conn' is not defined"
     ]
    }
   ],
   "source": [
    "# insert one vendor\n",
    "#insert_vendor(\"3M Co.\",conn,cur)\n",
    "# insert multiple vendors\n",
    "insert_vendor_list([\n",
    "    ('AKM Semiconductor Inc.',),\n",
    "    ('Asahi Glass Co Ltd.',),\n",
    "    ('Daikin Industries Ltd.',),\n",
    "    ('Dynacast International Inc.',),\n",
    "    ('Foster Electric Co. Ltd.',),\n",
    "    ('Murata Manufacturing Co. Ltd.',)\n",
    "],conn,cur)"
   ]
  },
  {
   "cell_type": "code",
   "execution_count": null,
   "metadata": {},
   "outputs": [],
   "source": [
    "conn = psycopg2.connect(host=host,database=database, user=user, password=password)\n",
    "cur = conn.cursor()"
   ]
  },
  {
   "cell_type": "code",
   "execution_count": null,
   "metadata": {},
   "outputs": [],
   "source": [
    "def update_vendor(vendor_id, vendor_name,conn,cur):\n",
    "    \"\"\" update vendor name based on the vendor id \"\"\"\n",
    "    sql = \"\"\" UPDATE vendors\n",
    "                SET vendor_name = %s\n",
    "                WHERE vendor_id = %s\"\"\"\n",
    "    updated_rows = 0\n",
    "    try:\n",
    "        cur.execute(sql, (vendor_name, vendor_id))\n",
    "        # get the number of updated rows\n",
    "        updated_rows = cur.rowcount\n",
    "        # Commit the changes to the database\n",
    "        conn.commit()\n",
    "    except (Exception, psycopg2.DatabaseError) as error:\n",
    "        print(error)\n",
    "    \n",
    "    return updated_rows"
   ]
  },
  {
   "cell_type": "code",
   "execution_count": null,
   "metadata": {},
   "outputs": [],
   "source": [
    "def get_vendors(con,cur):\n",
    "    \"\"\" query data from the vendors table \"\"\"\n",
    "    try:\n",
    "        cur.execute(\"SELECT vendor_id, vendor_name FROM vendors ORDER BY vendor_name\")\n",
    "        print(\"The number of parts: \", cur.rowcount)\n",
    "        row = cur.fetchone()\n",
    " \n",
    "        while row is not None:\n",
    "            print(row)\n",
    "            row = cur.fetchone()\n",
    "    except (Exception, psycopg2.DatabaseError) as error:\n",
    "        print(error)"
   ]
  },
  {
   "cell_type": "code",
   "execution_count": null,
   "metadata": {},
   "outputs": [],
   "source": [
    "cur.execute(\"select * from public.vendors\")\n",
    "cur.fetchall()"
   ]
  },
  {
   "cell_type": "code",
   "execution_count": null,
   "metadata": {},
   "outputs": [],
   "source": [
    "def delete_part(part_id):\n",
    "    \"\"\" delete part by part id \"\"\"\n",
    "    conn = None\n",
    "    rows_deleted = 0\n",
    "    try:\n",
    "        # execute the UPDATE  statement\n",
    "        cur.execute(\"DELETE FROM parts WHERE part_id = %s\", (part_id,))\n",
    "        # get the number of updated rows\n",
    "        rows_deleted = cur.rowcount\n",
    "        # Commit the changes to the database\n",
    "        conn.commit()\n",
    "    except (Exception, psycopg2.DatabaseError) as error:\n",
    "        print(error)\n",
    " \n",
    "    return rows_deleted"
   ]
  },
  {
   "cell_type": "code",
   "execution_count": null,
   "metadata": {},
   "outputs": [],
   "source": []
  }
 ],
 "metadata": {
  "kernelspec": {
   "display_name": "Python 3",
   "language": "python",
   "name": "python3"
  },
  "language_info": {
   "codemirror_mode": {
    "name": "ipython",
    "version": 3
   },
   "file_extension": ".py",
   "mimetype": "text/x-python",
   "name": "python",
   "nbconvert_exporter": "python",
   "pygments_lexer": "ipython3",
   "version": "3.7.3"
  }
 },
 "nbformat": 4,
 "nbformat_minor": 2
}
